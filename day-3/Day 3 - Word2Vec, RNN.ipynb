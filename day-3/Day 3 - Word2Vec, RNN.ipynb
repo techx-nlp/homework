{
 "cells": [
  {
   "cell_type": "code",
   "execution_count": 1,
   "metadata": {},
   "outputs": [],
   "source": [
    "import numpy as np\n",
    "import time"
   ]
  },
  {
   "cell_type": "code",
   "execution_count": null,
   "metadata": {},
   "outputs": [],
   "source": [
    "#Reading Data \n"
   ]
  },
  {
   "cell_type": "code",
   "execution_count": null,
   "metadata": {},
   "outputs": [],
   "source": [
    "#Vectorization\n",
    "#n-gram + SVD (Encoder)\n",
    "     "
   ]
  },
  {
   "cell_type": "code",
   "execution_count": null,
   "metadata": {},
   "outputs": [],
   "source": [
    "  "
   ]
  },
  {
   "cell_type": "code",
   "execution_count": null,
   "metadata": {},
   "outputs": [],
   "source": [
    "W_e = \n",
    "W_h = \n",
    "W_y = \n",
    "\n",
    "train_argument = {\"W_e\": W_e, \"W_h\": W_h, \"W_y\": W_y, \"lr\": 1e-5, \"bs\": 4}\n",
    "\n",
    "\n",
    "#RNN Module\n",
    "def rnn(data, label, train_argument):\n",
    "    W_e = train_argument[\"W_e\"]\n",
    "    W_h = train_argument[\"W_h\"]\n",
    "    W_y = train_argument[\"W_y\"]\n",
    "    lr = train_argument[\"lr\"]\n",
    "    bs = train_argument[\"bs\"]\n",
    "    \n",
    "    ######## Your Code ########\n",
    "    \n",
    "    \n",
    "    ###########################\n",
    "    \n",
    "    \n",
    "    return train_argument"
   ]
  },
  {
   "cell_type": "code",
   "execution_count": null,
   "metadata": {},
   "outputs": [],
   "source": [
    "#training\n",
    "\n"
   ]
  },
  {
   "cell_type": "code",
   "execution_count": null,
   "metadata": {},
   "outputs": [],
   "source": []
  },
  {
   "cell_type": "code",
   "execution_count": null,
   "metadata": {},
   "outputs": [],
   "source": [
    "#prediction\n"
   ]
  }
 ],
 "metadata": {
  "kernelspec": {
   "display_name": "Python 3",
   "language": "python",
   "name": "python3"
  },
  "language_info": {
   "codemirror_mode": {
    "name": "ipython",
    "version": 3
   },
   "file_extension": ".py",
   "mimetype": "text/x-python",
   "name": "python",
   "nbconvert_exporter": "python",
   "pygments_lexer": "ipython3",
   "version": "3.7.4"
  }
 },
 "nbformat": 4,
 "nbformat_minor": 4
}
