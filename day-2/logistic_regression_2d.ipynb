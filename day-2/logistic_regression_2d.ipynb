{
 "cells": [
  {
   "cell_type": "markdown",
   "metadata": {
    "id": "92bc43d5-a5fc-459f-84cd-d6d6f33fdae1"
   },
   "source": [
    "# Logistic Regression (Simple)\n",
    "\n",
    "1 binary boi"
   ]
  },
  {
   "cell_type": "code",
   "execution_count": 2,
   "metadata": {
    "id": "98e7864d-46a2-4052-850d-7630f6218eb3"
   },
   "outputs": [],
   "source": [
    "# dependencies\n",
    "\n",
    "\n",
    "import time\n",
    "import numpy as np\n",
    "import matplotlib.pyplot as plt"
   ]
  },
  {
   "cell_type": "code",
   "execution_count": 3,
   "metadata": {
    "id": "7ab3ddab-1d69-4391-bde3-8c5f684db6ab"
   },
   "outputs": [],
   "source": [
    "# constants\n",
    "\n",
    "\n",
    "# to ensure identical distribution\n",
    "rand_seed = 42"
   ]
  },
  {
   "cell_type": "code",
   "execution_count": 4,
   "metadata": {
    "id": "d899f5bc-66f1-4499-990a-0f105613871e"
   },
   "outputs": [],
   "source": [
    "# dataset\n",
    "\n",
    "\n",
    "# data-generating function\n",
    "def generate_data(w, b, n_data=100, x_range=(-10, 10), y_range=(-10, 10)):\n",
    "    x_min, x_max = x_range\n",
    "    y_min, y_max = y_range\n",
    "    \n",
    "    x = np.random.random_sample((n_data)) * (x_max - x_min) + x_min\n",
    "    y = np.random.random_sample(n_data) * (y_max - y_min) + y_min\n",
    "    \n",
    "    label = (w * x + b) > y\n",
    "    \n",
    "    return np.vstack((x, y)), label\n",
    "\n",
    "# drawwwww\n",
    "def plot_data(data, label):\n",
    "    for group in np.unique(label):\n",
    "        batch = np.where(label == group)\n",
    "        plt.scatter(data[0][batch], data[1][batch])\n",
    "        \n",
    "    plt.show()\n",
    "\n",
    "# drawwwww and line\n",
    "def plot_data_with_line(data, label, weight, bias):\n",
    "    rang = np.array([min(data[0]), max(data[0])])\n",
    "    \n",
    "    plt.plot(rang, rang * weight + bias, c='red')\n",
    "    plot_data(data, label)"
   ]
  },
  {
   "cell_type": "code",
   "execution_count": 5,
   "metadata": {
    "id": "9476c716-b3a7-4e3c-90f5-b3b46742ca69"
   },
   "outputs": [
    {
     "data": {
      "image/png": "[encoded data removed]",
      "text/plain": [
       "<Figure size 432x288 with 1 Axes>"
      ]
     },
     "metadata": {
      "needs_background": "light"
     },
     "output_type": "display_data"
    }
   ],
   "source": [
    "# visualization\n",
    "\n",
    "\n",
    "np.random.seed(rand_seed)\n",
    "\n",
    "# do NOT use '_weight' and '_bias' in your code!\n",
    "_weight, _bias = np.random.normal() * 2, np.random.normal() * 5\n",
    "\n",
    "data, label = generate_data(_weight, _bias, 200)\n",
    "plot_data_with_line(data, label, _weight, _bias, )"
   ]
  },
  {
   "cell_type": "code",
   "execution_count": 85,
   "metadata": {
    "id": "0e4a18a8-923f-4565-9181-ff5db60a4d86"
   },
   "outputs": [],
   "source": [
    "# write this function (maybe a few helper functions too)\n",
    "\n",
    "\n",
    "def logistics_regression(data, label, learning_rate=1e-3):\n",
    "    # data format：\n",
    "    # [[x1, x2, x3... xn],\n",
    "    #  [y1, y2, y3... yn]]\n",
    "    #\n",
    "    # label format:\n",
    "    # [l1, l2, l3... ln]\n",
    "    # where 'ln' is the binary label (0 or 1)\n",
    "    #\n",
    "    # return value: a tuple of (weight, bias)\n",
    "    \n",
    "    return weight, bias"
   ]
  },
  {
   "cell_type": "code",
   "execution_count": 18,
   "metadata": {
    "id": "ed8c5185-dea2-4fc5-88f9-49e3633c561f"
   },
   "outputs": [
    {
     "ename": "TypeError",
     "evalue": "logistics_regression() missing 1 required positional argument: 'label'",
     "output_type": "error",
     "traceback": [
      "\u001b[0;31m---------------------------------------------------------------------------\u001b[0m",
      "\u001b[0;31mTypeError\u001b[0m                                 Traceback (most recent call last)",
      "\u001b[0;32m<ipython-input-18-f7fe7a884e05>\u001b[0m in \u001b[0;36m<module>\u001b[0;34m\u001b[0m\n\u001b[1;32m      2\u001b[0m \u001b[0;34m\u001b[0m\u001b[0m\n\u001b[1;32m      3\u001b[0m \u001b[0mstart_time\u001b[0m \u001b[0;34m=\u001b[0m \u001b[0mtime\u001b[0m\u001b[0;34m.\u001b[0m\u001b[0mtime\u001b[0m\u001b[0;34m(\u001b[0m\u001b[0;34m)\u001b[0m\u001b[0;34m\u001b[0m\u001b[0;34m\u001b[0m\u001b[0m\n\u001b[0;32m----> 4\u001b[0;31m \u001b[0mpredicted_weight\u001b[0m\u001b[0;34m,\u001b[0m \u001b[0mpredicted_bias\u001b[0m \u001b[0;34m=\u001b[0m \u001b[0mlogistics_regression\u001b[0m\u001b[0;34m(\u001b[0m\u001b[0mdata\u001b[0m\u001b[0;34m)\u001b[0m\u001b[0;34m\u001b[0m\u001b[0;34m\u001b[0m\u001b[0m\n\u001b[0m\u001b[1;32m      5\u001b[0m \u001b[0mtotal_time\u001b[0m \u001b[0;34m=\u001b[0m \u001b[0mtime\u001b[0m\u001b[0;34m.\u001b[0m\u001b[0mtime\u001b[0m\u001b[0;34m(\u001b[0m\u001b[0;34m)\u001b[0m \u001b[0;34m-\u001b[0m \u001b[0mstart_time\u001b[0m\u001b[0;34m\u001b[0m\u001b[0;34m\u001b[0m\u001b[0m\n\u001b[1;32m      6\u001b[0m \u001b[0;34m\u001b[0m\u001b[0m\n",
      "\u001b[0;31mTypeError\u001b[0m: logistics_regression() missing 1 required positional argument: 'label'"
     ]
    }
   ],
   "source": [
    "# testing your code\n",
    "\n",
    "\n",
    "start_time = time.time()\n",
    "predicted_weight, predicted_bias = logistics_regression(data)\n",
    "total_time = time.time() - start_time\n",
    "\n",
    "# plotting\n",
    "plot_data_with_line(data, predicted_weight, predicted_bias)\n",
    "\n",
    "# calculate mean squared error\n",
    "predicted_label = data[0] * predicted_weight + predicted_bias\n",
    "loss = np.sum(np.square(predicted_label - data[1])) / data.shape[1]\n",
    "\n",
    "print(f'Mean square error：{loss}')\n",
    "print(f'Time：{total_time} secs')"
   ]
  },
  {
   "cell_type": "code",
   "execution_count": null,
   "metadata": {
    "id": "9f6729c6-1bbb-4eec-ba69-1df5b50ba435"
   },
   "outputs": [],
   "source": []
  }
 ],
 "metadata": {
  "kernelspec": {
   "display_name": "Python 3",
   "language": "python",
   "name": "python3"
  },
  "language_info": {
   "codemirror_mode": {
    "name": "ipython",
    "version": 3
   },
   "file_extension": ".py",
   "mimetype": "text/x-python",
   "name": "python",
   "nbconvert_exporter": "python",
   "pygments_lexer": "ipython3",
   "version": "3.7.7"
  }
 },
 "nbformat": 4,
 "nbformat_minor": 4
}
