{
 "cells": [
  {
   "cell_type": "markdown",
   "metadata": {},
   "source": [
    "# English Parser\n",
    "\n",
    "\"BuT dAvId, ThAt's JuSt A mOnOiDaL-eNdOfUnCtOr-DeRiVeD cOnTeXt-CoErCiNg LaMbDa CoMbInAtOr In SiMpLeR tErMs\""
   ]
  },
  {
   "cell_type": "code",
   "execution_count": 5,
   "metadata": {},
   "outputs": [],
   "source": [
    "# dependencies\n",
    "\n",
    "import enum\n",
    "\n",
    "from xnlp.parser import (\n",
    "    Parser,\n",
    "    runParser,\n",
    "    satisfy,\n",
    "    optional,\n",
    "    zeroOrMore,\n",
    "    oneOrMore\n",
    ")"
   ]
  },
  {
   "cell_type": "markdown",
   "metadata": {},
   "source": [
    "In this assignment, you are going to explore how to write parsing rules as described in class. The grammar you are going to design is a simplified version of English; words in such language consist of only 6 types:\n",
    "\n",
    "- `ADJ`: Adjectives (e.g. `beautiful`, `big`)\n",
    "- `ADV`: Adverbs (e.g. `gracefully`, `quickly`)\n",
    "- `NOUN`: Noun (e.g. `penguin`, `penguin`, `penguin`)\n",
    "- `PUNCT`: Punctuation (e.g. `,`, `;`, `.`)\n",
    "- `VERB`: Verb (e.g. `run`, `eat`, `slap`)\n",
    "- `CCONJ`: Coordinating Conjunctions (e.g. `but`, `and`, `yet`)\n",
    "\n",
    "For a more in-depth explanation on the above part-of-speech tags, visit [Universal POS Tags](https://universaldependencies.org/u/pos/all.html)."
   ]
  },
  {
   "cell_type": "code",
   "execution_count": 7,
   "metadata": {},
   "outputs": [],
   "source": [
    "class Token(enum.Enum):\n",
    "    \"\"\"\n",
    "    Some simple tokens. Very inconclusive, but simple.\n",
    "    \"\"\"\n",
    "\n",
    "    ADJ = 'Adjective'\n",
    "    ADV = 'Adverb'\n",
    "    NOUN = 'Noun'\n",
    "    PUNCT = 'Punctuation'\n",
    "    VERB = 'Verb'\n",
    "    CCONJ = 'Coordinating Conjunction'"
   ]
  },
  {
   "cell_type": "code",
   "execution_count": null,
   "metadata": {},
   "outputs": [],
   "source": []
  }
 ],
 "metadata": {
  "kernelspec": {
   "display_name": "Python 3",
   "language": "python",
   "name": "python3"
  },
  "language_info": {
   "codemirror_mode": {
    "name": "ipython",
    "version": 3
   },
   "file_extension": ".py",
   "mimetype": "text/x-python",
   "name": "python",
   "nbconvert_exporter": "python",
   "pygments_lexer": "ipython3",
   "version": "3.7.7"
  }
 },
 "nbformat": 4,
 "nbformat_minor": 4
}
