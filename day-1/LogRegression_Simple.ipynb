{
 "cells": [
  {
   "cell_type": "markdown",
   "metadata": {
    "id": "31f49bb9-3685-4fbc-a3b7-d83084e1e28a"
   },
   "source": [
    "# Logistic Regression (Simple)\n",
    "\n",
    "1 binary boi"
   ]
  },
  {
   "cell_type": "code",
   "execution_count": 8,
   "metadata": {
    "id": "04d385d0-e202-43d4-a0ec-325b0105a028"
   },
   "outputs": [],
   "source": [
    "# dependencies\n",
    "\n",
    "import time\n",
    "import numpy as np\n",
    "import matplotlib.pyplot as plt"
   ]
  },
  {
   "cell_type": "code",
   "execution_count": 9,
   "metadata": {
    "id": "50842f67-da3e-4270-94f2-81d20add66d7"
   },
   "outputs": [],
   "source": [
    "# constants\n",
    "\n",
    "# to ensure identical distribution\n",
    "rand_seed = 42"
   ]
  },
  {
   "cell_type": "code",
   "execution_count": 10,
   "metadata": {
    "id": "96f43692-f662-4c5d-a361-c98c034a963e"
   },
   "outputs": [],
   "source": [
    "# dataset\n",
    "\n",
    "# data-generating function\n",
    "def generate_data(weight, bias, noise=9, x_min=-10, x_max=10, n_data=100):\n",
    "    x = np.random.random_sample((n_data)) * (x_max - x_min) + x_min\n",
    "    y = x * weight + bias + np.random.normal(0, noise, (n_data))\n",
    "    \n",
    "    return np.vstack((x, y))\n",
    "\n",
    "# drawwwww\n",
    "def plot_data(data):\n",
    "    plt.scatter(data[0], data[1])\n",
    "    plt.show()\n",
    "\n",
    "# drawwwww and line\n",
    "def plot_data_with_line(data, weight, bias):\n",
    "    rang = np.array([min(data[0]), max(data[0])])\n",
    "    plt.plot(rang, rang * weight + bias, c='red')\n",
    "    plot_data(data)"
   ]
  },
  {
   "cell_type": "code",
   "execution_count": 13,
   "metadata": {
    "id": "f14c9044-ee38-43cc-8492-64ceaaf3fea3"
   },
   "outputs": [
    {
     "data": {
      "image/png": "[encoded data removed]",
      "text/plain": [
       "<Figure size 432x288 with 1 Axes>"
      ]
     },
     "metadata": {
      "needs_background": "light"
     },
     "output_type": "display_data"
    }
   ],
   "source": [
    "# visualization\n",
    "\n",
    "np.random.seed(rand_seed)\n",
    "\n",
    "# do NOT use '_weight' and '_bias' in your code!\n",
    "_weight, _bias = np.random.normal() * 10, np.random.normal() * 20\n",
    "\n",
    "data = generate_data(_weight, _bias)\n",
    "plot_data(data)"
   ]
  },
  {
   "cell_type": "code",
   "execution_count": 14,
   "metadata": {
    "id": "3bf38ced-6b43-4347-a9f8-063727c31e4c"
   },
   "outputs": [],
   "source": [
    "# write this function (maybe a few helper functions too)\n",
    "\n",
    "def linear_regression(data, learning_rate=1e-3):\n",
    "    # data format：\n",
    "    # [[x1, x2, x3... xn],\n",
    "    #  [y1, y2, y3... yn],\n",
    "    #  [l1, l2, l3... ln]]\n",
    "    #\n",
    "    # where 'ln' is the binary label (0 or 1)\n",
    "    \n",
    "    # return value: a tuple of (weight, bias)\n",
    "    pass"
   ]
  },
  {
   "cell_type": "code",
   "execution_count": 16,
   "metadata": {
    "id": "cbef94b5-d7d2-4e3f-a820-fad996e6123e"
   },
   "outputs": [
    {
     "ename": "TypeError",
     "evalue": "cannot unpack non-iterable NoneType object",
     "output_type": "error",
     "traceback": [
      "\u001b[0;31m---------------------------------------------------------------------------\u001b[0m",
      "\u001b[0;31mTypeError\u001b[0m                                 Traceback (most recent call last)",
      "\u001b[0;32m<ipython-input-16-9bfbbeaca9c3>\u001b[0m in \u001b[0;36m<module>\u001b[0;34m\u001b[0m\n\u001b[1;32m      2\u001b[0m \u001b[0;34m\u001b[0m\u001b[0m\n\u001b[1;32m      3\u001b[0m \u001b[0mstart_time\u001b[0m \u001b[0;34m=\u001b[0m \u001b[0mtime\u001b[0m\u001b[0;34m.\u001b[0m\u001b[0mtime\u001b[0m\u001b[0;34m(\u001b[0m\u001b[0;34m)\u001b[0m\u001b[0;34m\u001b[0m\u001b[0;34m\u001b[0m\u001b[0m\n\u001b[0;32m----> 4\u001b[0;31m \u001b[0mpredicted_weight\u001b[0m\u001b[0;34m,\u001b[0m \u001b[0mpredicted_bias\u001b[0m \u001b[0;34m=\u001b[0m \u001b[0mlinear_regression\u001b[0m\u001b[0;34m(\u001b[0m\u001b[0mdata\u001b[0m\u001b[0;34m)\u001b[0m\u001b[0;34m\u001b[0m\u001b[0;34m\u001b[0m\u001b[0m\n\u001b[0m\u001b[1;32m      5\u001b[0m \u001b[0mtotal_time\u001b[0m \u001b[0;34m=\u001b[0m \u001b[0mtime\u001b[0m\u001b[0;34m.\u001b[0m\u001b[0mtime\u001b[0m\u001b[0;34m(\u001b[0m\u001b[0;34m)\u001b[0m \u001b[0;34m-\u001b[0m \u001b[0mstart_time\u001b[0m\u001b[0;34m\u001b[0m\u001b[0;34m\u001b[0m\u001b[0m\n\u001b[1;32m      6\u001b[0m \u001b[0;34m\u001b[0m\u001b[0m\n",
      "\u001b[0;31mTypeError\u001b[0m: cannot unpack non-iterable NoneType object"
     ]
    }
   ],
   "source": [
    "# testing your code\n",
    "\n",
    "start_time = time.time()\n",
    "predicted_weight, predicted_bias = linear_regression(data)\n",
    "total_time = time.time() - start_time\n",
    "\n",
    "# plotting\n",
    "plot_data_with_line(data, predicted_weight, predicted_bias)\n",
    "\n",
    "# calculate mean squared error\n",
    "predicted_label = data[0] * predicted_weight + predicted_bias\n",
    "loss = np.sum(np.square(predicted_label - data[1])) / data.shape[1]\n",
    "\n",
    "print(f'Mean square error：{loss}')\n",
    "print(f'Time：{total_time} secs')"
   ]
  },
  {
   "cell_type": "code",
   "execution_count": null,
   "metadata": {},
   "outputs": [],
   "source": []
  }
 ],
 "metadata": {
  "kernelspec": {
   "display_name": "Python 3",
   "language": "python",
   "name": "python3"
  },
  "language_info": {
   "codemirror_mode": {
    "name": "ipython",
    "version": 3
   },
   "file_extension": ".py",
   "mimetype": "text/x-python",
   "name": "python",
   "nbconvert_exporter": "python",
   "pygments_lexer": "ipython3",
   "version": "3.7.7"
  }
 },
 "nbformat": 4,
 "nbformat_minor": 4
}
