{
 "cells": [
  {
   "cell_type": "markdown",
   "metadata": {},
   "source": [
    "# Question Quality Model\n",
    "\n",
    "This is basically Quiz 2, but you are expected to do much better!"
   ]
  },
  {
   "cell_type": "code",
   "execution_count": 17,
   "metadata": {},
   "outputs": [],
   "source": [
    "# dependencies\n",
    "\n",
    "\n",
    "import torch as t\n",
    "import numpy as np\n",
    "import pandas as pd"
   ]
  },
  {
   "cell_type": "code",
   "execution_count": 18,
   "metadata": {},
   "outputs": [],
   "source": [
    "# reading\n",
    "\n",
    "\n",
    "train_data = pd.read_csv('train.csv', sep='\\t', names=['Question', 'Score'])\n",
    "test_data = pd.read_csv('test.csv', sep='\\t', names=['Question', 'Score'])"
   ]
  },
  {
   "cell_type": "code",
   "execution_count": 19,
   "metadata": {},
   "outputs": [],
   "source": [
    "# model\n",
    "\n",
    "\n",
    "class Model(t.nn.Module):\n",
    "    \n",
    "    def __init__(self):\n",
    "        pass\n",
    "    \n",
    "    def forward(self, x):\n",
    "        pass"
   ]
  },
  {
   "cell_type": "code",
   "execution_count": 25,
   "metadata": {},
   "outputs": [],
   "source": [
    "# train and test\n",
    "\n",
    "\n",
    "def train(data, target):\n",
    "    pass\n",
    "\n",
    "\n",
    "def test(data):\n",
    "    return predicted_score"
   ]
  },
  {
   "cell_type": "code",
   "execution_count": 26,
   "metadata": {},
   "outputs": [
    {
     "name": "stdout",
     "output_type": "stream",
     "text": [
      "Loss: 0.0\n"
     ]
    }
   ],
   "source": [
    "# testing\n",
    "\n",
    "\n",
    "train(train_data['Question'], train_data['Score'])\n",
    "results = test(test_data['Question'])\n",
    "loss = np.sum((results - test_data['Score']) ** 2)\n",
    "\n",
    "print('Loss:', loss)"
   ]
  }
 ],
 "metadata": {
  "kernelspec": {
   "display_name": "Python 3",
   "language": "python",
   "name": "python3"
  },
  "language_info": {
   "codemirror_mode": {
    "name": "ipython",
    "version": 3
   },
   "file_extension": ".py",
   "mimetype": "text/x-python",
   "name": "python",
   "nbconvert_exporter": "python",
   "pygments_lexer": "ipython3",
   "version": "3.7.7"
  }
 },
 "nbformat": 4,
 "nbformat_minor": 4
}
